{
 "cells": [
  {
   "cell_type": "markdown",
   "id": "038d6ae5",
   "metadata": {},
   "source": [
    "# Tasca M10 T01\n",
    "\n",
    "## Exercici 1\n",
    "Realitza web scraping de dues de les tres pàgines web proposades utilitzant BeautifulSoup primer i Selenium després. \n",
    "\n",
    "- http://quotes.toscrape.com\n",
    "\n",
    "- https://www.bolsamadrid.es\n",
    "\n",
    "- www.wikipedia.es (fes alguna cerca primer i escrapeja algun contingut)\n",
    "\n"
   ]
  },
  {
   "cell_type": "code",
   "execution_count": 1,
   "id": "1d9fbdd5",
   "metadata": {},
   "outputs": [],
   "source": [
    "#!pip install beautifulsoup4"
   ]
  },
  {
   "cell_type": "code",
   "execution_count": 2,
   "id": "36f96bc7",
   "metadata": {},
   "outputs": [],
   "source": [
    "import numpy as np\n",
    "import pandas as pd\n",
    "import matplotlib.pyplot as plt\n",
    "\n",
    "import requests\n",
    "#import jovian\n",
    "from bs4 import BeautifulSoup\n",
    "import csv\n",
    "import string \n",
    "from datetime import datetime\n",
    "import warnings\n",
    "warnings.filterwarnings(\"ignore\")"
   ]
  },
  {
   "cell_type": "markdown",
   "id": "cf14f9d0",
   "metadata": {},
   "source": [
    "### Se utilizará esta página http://quotes.toscrape.com/ para recuperar la información mediante web scraping con BeautifulSoup.\n",
    "\n",
    "\n",
    "**Quotes to Scrape** es una página web de citas populares de diferentes autores relacionados con diferentes temas. \n",
    "\n",
    "\n",
    "- Se realizará web scraping a citas con sus autores, etiquetas (temas) y enlaces a la biografía del autor.\n",
    "\n",
    "- ¿Qué es el raspado web (Web Scraping)?\n",
    "Web Scraping es el proceso de extracción y análisis de datos de una página web de forma automatizada mediante un programa informático. Hay muchos ejemplos en los que el web scraping puede ser útil, por ejemplo, para crear un raspador de búsqueda de empleo, un raspador de películas principales, un raspador de precios de teléfonos móviles, etc. \n",
    "El raspado web implica extraer información a menudo de documentos HTML y luego convertirla en datos estructurados como archivos CSV .\n",
    "\n",
    "- Se descargará la página web Quotes To Scrape usando la biblioteca **Requests**\n",
    "***Requests** es una biblioteca HTTP (protocolo de transferencia de hipertexto) elegante y simple para Python que le permite enviar solicitudes HTTP fácilmente. **Requests.get** descargará la página web y devolverá un objeto de respuesta con el contenido de la página y alguna información que indique si la solicitud fue exitosa, usando un código de estado."
   ]
  },
  {
   "cell_type": "code",
   "execution_count": 3,
   "id": "519b8512",
   "metadata": {},
   "outputs": [],
   "source": [
    "url='http://quotes.toscrape.com/'\n",
    "response=requests.get(url)"
   ]
  },
  {
   "cell_type": "markdown",
   "id": "da93d690",
   "metadata": {},
   "source": [
    "- **response.status_code** le proporcionará el código si la solicitud fue exitosa o no. Si **status.code** se encuentra entre 200 y 209, la solicitud fue exitosa; de lo contrario, no fue exitosa."
   ]
  },
  {
   "cell_type": "code",
   "execution_count": 4,
   "id": "8aaac6ba",
   "metadata": {},
   "outputs": [
    {
     "data": {
      "text/plain": [
       "200"
      ]
     },
     "execution_count": 4,
     "metadata": {},
     "output_type": "execute_result"
    }
   ],
   "source": [
    "response.status_code"
   ]
  },
  {
   "cell_type": "markdown",
   "id": "dfe9a8fa",
   "metadata": {},
   "source": [
    "- La solicitud fue exitosa\n",
    "\n",
    "\n",
    "### Análisis de partes del sitio web usando BeautifulSoup\n",
    "\n",
    "- Para extraer información del código fuente HTML mediante programación, se utilizará la biblioteca **Beautiful Soup**.\n",
    "\n",
    "- Beautiful Soup devolverá un objeto que contiene varias propiedades y métodos para extraer la información de los documentos HTML."
   ]
  },
  {
   "cell_type": "code",
   "execution_count": 5,
   "id": "41cdb3c5",
   "metadata": {},
   "outputs": [
    {
     "data": {
      "text/plain": [
       "bs4.BeautifulSoup"
      ]
     },
     "execution_count": 5,
     "metadata": {},
     "output_type": "execute_result"
    }
   ],
   "source": [
    "doc=BeautifulSoup(response.text,'html.parser')\n",
    "type(doc)"
   ]
  },
  {
   "cell_type": "markdown",
   "id": "7246c542",
   "metadata": {},
   "source": [
    "- Al inspeccionar el cuadro que contiene la información de las citas (quote), encontraremos una divetiqueta para cada cita (quote), con la clase establecida en quote.\n",
    "\n",
    "- Se buscarán todas las **div** etiquetas que tengan **class** quote."
   ]
  },
  {
   "cell_type": "code",
   "execution_count": 6,
   "id": "2fe5526b",
   "metadata": {},
   "outputs": [
    {
     "data": {
      "text/plain": [
       "10"
      ]
     },
     "execution_count": 6,
     "metadata": {},
     "output_type": "execute_result"
    }
   ],
   "source": [
    "div_tags=doc.find_all('div',class_='quote')\n",
    "len(div_tags)"
   ]
  },
  {
   "cell_type": "markdown",
   "id": "498f187b",
   "metadata": {},
   "source": [
    "- Cada página tiene 10 citas, por lo tanto, el **length** de **div_tags** es 10. \n",
    "- **div_tags** Contiene información como cita, nombre del autor, enlaces a la biografía del autor, etiquetas.\n",
    "- Se extraerán las comillas usando la función **get_quotes**."
   ]
  },
  {
   "cell_type": "code",
   "execution_count": 7,
   "id": "0b441667",
   "metadata": {},
   "outputs": [],
   "source": [
    "def get_quotes(div_tags):\n",
    "    \"\"\"Get the list of quotes for one page\"\"\"\n",
    "    quotes=[]\n",
    "    for tag in div_tags:\n",
    "        quote=tag.find('span',class_='text').text\n",
    "        quotes.append(quote)\n",
    "    return quotes    "
   ]
  },
  {
   "cell_type": "code",
   "execution_count": 8,
   "id": "96782d20",
   "metadata": {},
   "outputs": [
    {
     "data": {
      "text/plain": [
       "['“The world as we have created it is a process of our thinking. It cannot be changed without changing our thinking.”',\n",
       " '“It is our choices, Harry, that show what we truly are, far more than our abilities.”',\n",
       " '“There are only two ways to live your life. One is as though nothing is a miracle. The other is as though everything is a miracle.”',\n",
       " '“The person, be it gentleman or lady, who has not pleasure in a good novel, must be intolerably stupid.”',\n",
       " \"“Imperfection is beauty, madness is genius and it's better to be absolutely ridiculous than absolutely boring.”\",\n",
       " '“Try not to become a man of success. Rather become a man of value.”',\n",
       " '“It is better to be hated for what you are than to be loved for what you are not.”',\n",
       " \"“I have not failed. I've just found 10,000 ways that won't work.”\",\n",
       " \"“A woman is like a tea bag; you never know how strong it is until it's in hot water.”\",\n",
       " '“A day without sunshine is like, you know, night.”']"
      ]
     },
     "execution_count": 8,
     "metadata": {},
     "output_type": "execute_result"
    }
   ],
   "source": [
    "get_quotes(div_tags)"
   ]
  },
  {
   "cell_type": "markdown",
   "id": "ceed9ca9",
   "metadata": {},
   "source": [
    "- Se extraerán los nombres de los autores, que están dentro **small tag**, con la clase establecida en **author** que está dentro **span tag** con la clase establecida en **None**, y se usará la función de ayuda **get_author_name**."
   ]
  },
  {
   "cell_type": "code",
   "execution_count": 9,
   "id": "125deb2d",
   "metadata": {},
   "outputs": [],
   "source": [
    "def get_author_name(div_tags):\n",
    "    \"\"\"Get the author names for the quotes for one page\"\"\"\n",
    "    authors=[]\n",
    "    for tag in div_tags:\n",
    "        span_tag=tag.find('span',class_=None)\n",
    "        author=span_tag.find('small',class_='author').text\n",
    "        authors.append(author)\n",
    "    return authors  "
   ]
  },
  {
   "cell_type": "code",
   "execution_count": 10,
   "id": "e2ff12f2",
   "metadata": {},
   "outputs": [
    {
     "data": {
      "text/plain": [
       "['Albert Einstein',\n",
       " 'J.K. Rowling',\n",
       " 'Albert Einstein',\n",
       " 'Jane Austen',\n",
       " 'Marilyn Monroe',\n",
       " 'Albert Einstein',\n",
       " 'André Gide',\n",
       " 'Thomas A. Edison',\n",
       " 'Eleanor Roosevelt',\n",
       " 'Steve Martin']"
      ]
     },
     "execution_count": 10,
     "metadata": {},
     "output_type": "execute_result"
    }
   ],
   "source": [
    "get_author_name(div_tags)"
   ]
  },
  {
   "cell_type": "code",
   "execution_count": 11,
   "id": "9522b776",
   "metadata": {},
   "outputs": [
    {
     "data": {
      "text/html": [
       "<div>\n",
       "<style scoped>\n",
       "    .dataframe tbody tr th:only-of-type {\n",
       "        vertical-align: middle;\n",
       "    }\n",
       "\n",
       "    .dataframe tbody tr th {\n",
       "        vertical-align: top;\n",
       "    }\n",
       "\n",
       "    .dataframe thead th {\n",
       "        text-align: right;\n",
       "    }\n",
       "</style>\n",
       "<table border=\"1\" class=\"dataframe\">\n",
       "  <thead>\n",
       "    <tr style=\"text-align: right;\">\n",
       "      <th></th>\n",
       "      <th>Quote</th>\n",
       "      <th>Author</th>\n",
       "    </tr>\n",
       "  </thead>\n",
       "  <tbody>\n",
       "    <tr>\n",
       "      <th>0</th>\n",
       "      <td>“The world as we have created it is a process ...</td>\n",
       "      <td>Albert Einstein</td>\n",
       "    </tr>\n",
       "    <tr>\n",
       "      <th>1</th>\n",
       "      <td>“It is our choices, Harry, that show what we t...</td>\n",
       "      <td>J.K. Rowling</td>\n",
       "    </tr>\n",
       "    <tr>\n",
       "      <th>2</th>\n",
       "      <td>“There are only two ways to live your life. On...</td>\n",
       "      <td>Albert Einstein</td>\n",
       "    </tr>\n",
       "    <tr>\n",
       "      <th>3</th>\n",
       "      <td>“The person, be it gentleman or lady, who has ...</td>\n",
       "      <td>Jane Austen</td>\n",
       "    </tr>\n",
       "    <tr>\n",
       "      <th>4</th>\n",
       "      <td>“Imperfection is beauty, madness is genius and...</td>\n",
       "      <td>Marilyn Monroe</td>\n",
       "    </tr>\n",
       "  </tbody>\n",
       "</table>\n",
       "</div>"
      ],
      "text/plain": [
       "                                               Quote           Author\n",
       "0  “The world as we have created it is a process ...  Albert Einstein\n",
       "1  “It is our choices, Harry, that show what we t...     J.K. Rowling\n",
       "2  “There are only two ways to live your life. On...  Albert Einstein\n",
       "3  “The person, be it gentleman or lady, who has ...      Jane Austen\n",
       "4  “Imperfection is beauty, madness is genius and...   Marilyn Monroe"
      ]
     },
     "execution_count": 11,
     "metadata": {},
     "output_type": "execute_result"
    }
   ],
   "source": [
    "df = pd.DataFrame()\n",
    "for quote_element in div_tags:\n",
    "    quote = quote_element.find(\"span\", class_=\"text\")\n",
    "    author = quote_element.find(\"small\", class_=\"author\")\n",
    "    df = df.append({'Quote' : quote.text.strip(),\n",
    "                        'Author' : author.text.strip()},\n",
    "                    ignore_index = True)\n",
    "df.head()"
   ]
  },
  {
   "cell_type": "markdown",
   "id": "5d29aac2",
   "metadata": {},
   "source": [
    "- Se extraerán las etiquetas de las comillas, que están dentro **meta tag** con el atributo **content** que está dentro **div tag** con la clase establecida en **tags**, y se usará la función **get_quote_tag**."
   ]
  },
  {
   "cell_type": "code",
   "execution_count": 12,
   "id": "3654cc5e",
   "metadata": {},
   "outputs": [],
   "source": [
    "def get_quote_tag(div_tags):\n",
    "    \"\"\"Get the quote tags for different quotes for one page\"\"\"\n",
    "    name_tags=[]\n",
    "    for tag in div_tags:\n",
    "        name_tag=tag.find('div',class_='tags').meta['content']\n",
    "        name_tags.append(name_tag)\n",
    "    return name_tags"
   ]
  },
  {
   "cell_type": "code",
   "execution_count": 13,
   "id": "8f8fd002",
   "metadata": {},
   "outputs": [
    {
     "data": {
      "text/plain": [
       "['change,deep-thoughts,thinking,world',\n",
       " 'abilities,choices',\n",
       " 'inspirational,life,live,miracle,miracles',\n",
       " 'aliteracy,books,classic,humor',\n",
       " 'be-yourself,inspirational',\n",
       " 'adulthood,success,value',\n",
       " 'life,love',\n",
       " 'edison,failure,inspirational,paraphrased',\n",
       " 'misattributed-eleanor-roosevelt',\n",
       " 'humor,obvious,simile']"
      ]
     },
     "execution_count": 13,
     "metadata": {},
     "output_type": "execute_result"
    }
   ],
   "source": [
    "get_quote_tag(div_tags)"
   ]
  },
  {
   "cell_type": "markdown",
   "id": "0bb3d6a8",
   "metadata": {},
   "source": [
    "- Se extraerán los enlaces de la biografía del autor, que está dentro **a tag** con el atributo **href** que está dentro **span tag** con la clase establecida en **None**, usando la función **get_author_links**.\n",
    "\n"
   ]
  },
  {
   "cell_type": "code",
   "execution_count": 14,
   "id": "2437f1ce",
   "metadata": {},
   "outputs": [],
   "source": [
    "def get_author_urls(div_tags):\n",
    "    \"\"\" Get the list of urls for one page\"\"\"\n",
    "    author_links=[]\n",
    "    for tag in div_tags:\n",
    "        span_tag=tag.find('span',class_=None)\n",
    "        author_link='http://quotes.toscrape.com'+span_tag.find('a')['href']\n",
    "        author_links.append(author_link)\n",
    "    return author_links"
   ]
  },
  {
   "cell_type": "code",
   "execution_count": 15,
   "id": "3a3f90cc",
   "metadata": {},
   "outputs": [
    {
     "data": {
      "text/plain": [
       "['http://quotes.toscrape.com/author/Albert-Einstein',\n",
       " 'http://quotes.toscrape.com/author/J-K-Rowling',\n",
       " 'http://quotes.toscrape.com/author/Albert-Einstein',\n",
       " 'http://quotes.toscrape.com/author/Jane-Austen',\n",
       " 'http://quotes.toscrape.com/author/Marilyn-Monroe',\n",
       " 'http://quotes.toscrape.com/author/Albert-Einstein',\n",
       " 'http://quotes.toscrape.com/author/Andre-Gide',\n",
       " 'http://quotes.toscrape.com/author/Thomas-A-Edison',\n",
       " 'http://quotes.toscrape.com/author/Eleanor-Roosevelt',\n",
       " 'http://quotes.toscrape.com/author/Steve-Martin']"
      ]
     },
     "execution_count": 15,
     "metadata": {},
     "output_type": "execute_result"
    }
   ],
   "source": [
    "get_author_urls(div_tags)"
   ]
  },
  {
   "cell_type": "markdown",
   "id": "f0f8cac1",
   "metadata": {},
   "source": [
    "### Ahora se utilizará esta página http://quotes.toscrape.com/ para recuperar la información mediante web scraping con Selenium."
   ]
  },
  {
   "cell_type": "code",
   "execution_count": 16,
   "id": "fdbd611b",
   "metadata": {},
   "outputs": [],
   "source": [
    "#!pip install -U selenium"
   ]
  },
  {
   "cell_type": "code",
   "execution_count": 17,
   "id": "d39cdcb4",
   "metadata": {},
   "outputs": [],
   "source": [
    "#!pip install webdriver-manager"
   ]
  },
  {
   "cell_type": "code",
   "execution_count": 18,
   "id": "984477f1",
   "metadata": {},
   "outputs": [],
   "source": [
    "from selenium import webdriver\n",
    "from selenium.webdriver.common.by import By\n",
    "import time"
   ]
  },
  {
   "cell_type": "code",
   "execution_count": 19,
   "id": "589317b2",
   "metadata": {},
   "outputs": [],
   "source": [
    "PATH = \"C:\\Program Files (x86)\\chromedriver.exe\"\n",
    "\n",
    "driver = webdriver.Chrome(PATH)\n",
    "\n",
    "driver.get(\"http://quotes.toscrape.com/\")\n",
    "\n",
    "time.sleep(5)\n",
    "\n",
    "#Find Elements\n",
    "quotes = driver.find_elements(By.CLASS_NAME, \"text\")\n",
    "authors = driver.find_elements(By.CLASS_NAME, \"author\")"
   ]
  },
  {
   "cell_type": "code",
   "execution_count": 20,
   "id": "4c733019",
   "metadata": {},
   "outputs": [
    {
     "name": "stdout",
     "output_type": "stream",
     "text": [
      "“The world as we have created it is a process of our thinking. It cannot be changed without changing our thinking.”\n",
      "“It is our choices, Harry, that show what we truly are, far more than our abilities.”\n",
      "“There are only two ways to live your life. One is as though nothing is a miracle. The other is as though everything is a miracle.”\n",
      "“The person, be it gentleman or lady, who has not pleasure in a good novel, must be intolerably stupid.”\n",
      "“Imperfection is beauty, madness is genius and it's better to be absolutely ridiculous than absolutely boring.”\n",
      "“Try not to become a man of success. Rather become a man of value.”\n",
      "“It is better to be hated for what you are than to be loved for what you are not.”\n",
      "“I have not failed. I've just found 10,000 ways that won't work.”\n",
      "“A woman is like a tea bag; you never know how strong it is until it's in hot water.”\n",
      "“A day without sunshine is like, you know, night.”\n"
     ]
    }
   ],
   "source": [
    "for quote in quotes:\n",
    "    quote= quote.text.strip()\n",
    "    print(quote)"
   ]
  },
  {
   "cell_type": "code",
   "execution_count": 21,
   "id": "d2bf9393",
   "metadata": {},
   "outputs": [
    {
     "name": "stdout",
     "output_type": "stream",
     "text": [
      "Albert Einstein\n",
      "J.K. Rowling\n",
      "Albert Einstein\n",
      "Jane Austen\n",
      "Marilyn Monroe\n",
      "Albert Einstein\n",
      "André Gide\n",
      "Thomas A. Edison\n",
      "Eleanor Roosevelt\n",
      "Steve Martin\n"
     ]
    }
   ],
   "source": [
    "for author in authors:\n",
    "    author= author.text.strip()\n",
    "    print(author)"
   ]
  },
  {
   "cell_type": "markdown",
   "id": "42bff2e5",
   "metadata": {},
   "source": [
    "- Al comparar los métodos de BeautifulSoup con Selenium, podemos concluir que son muy similares pero con Selenium es más fácil y los datos se obtienen de manera más estructurada (separados con espacios).\n",
    "\n",
    "\n",
    "\n",
    "### Se utilizará Wikipedia (https://es.wikipedia.org/wiki/Inteligencia_artificial) para recuperar la información mediante web scraping con BeautifulSoup.\n",
    "\n",
    "- Se realizará web scraping a una búsqueda en la página de wikipedia y luego se restreará algún contenido de interés."
   ]
  },
  {
   "cell_type": "code",
   "execution_count": 22,
   "id": "671807d2",
   "metadata": {},
   "outputs": [],
   "source": [
    "url='https://es.wikipedia.org/wiki/Inteligencia_artificial'\n",
    "response=requests.get(url)"
   ]
  },
  {
   "cell_type": "code",
   "execution_count": 23,
   "id": "34c5c6ae",
   "metadata": {},
   "outputs": [
    {
     "data": {
      "text/plain": [
       "200"
      ]
     },
     "execution_count": 23,
     "metadata": {},
     "output_type": "execute_result"
    }
   ],
   "source": [
    "response.status_code"
   ]
  },
  {
   "cell_type": "code",
   "execution_count": 24,
   "id": "8c06bd2e",
   "metadata": {},
   "outputs": [
    {
     "data": {
      "text/plain": [
       "bs4.BeautifulSoup"
      ]
     },
     "execution_count": 24,
     "metadata": {},
     "output_type": "execute_result"
    }
   ],
   "source": [
    "doc=BeautifulSoup(response.text,'html.parser')\n",
    "type(doc)"
   ]
  },
  {
   "cell_type": "code",
   "execution_count": 25,
   "id": "4d2f69ae",
   "metadata": {},
   "outputs": [],
   "source": [
    "soup = BeautifulSoup(response.text, 'lxml')"
   ]
  },
  {
   "cell_type": "code",
   "execution_count": 26,
   "id": "9afd35ac",
   "metadata": {},
   "outputs": [
    {
     "data": {
      "text/plain": [
       "<title>Inteligencia artificial - Wikipedia, la enciclopedia libre</title>"
      ]
     },
     "execution_count": 26,
     "metadata": {},
     "output_type": "execute_result"
    }
   ],
   "source": [
    "soup.find('title')"
   ]
  },
  {
   "cell_type": "code",
   "execution_count": 27,
   "id": "dd8e1436",
   "metadata": {},
   "outputs": [
    {
     "name": "stdout",
     "output_type": "stream",
     "text": [
      "Búsqueda Wikipedia: AlphaGo\n"
     ]
    }
   ],
   "source": [
    "int_art= soup.find(title=\"AlphaGo\")\n",
    "\n",
    "print('Búsqueda Wikipedia: '+ int_art.text)\n"
   ]
  },
  {
   "cell_type": "markdown",
   "id": "bc29f713",
   "metadata": {},
   "source": [
    "### Se utilizará Wikipedia  (https://es.wikipedia.org/wiki/Inteligencia_artificial) para recuperar la información mediante web scraping con Selenium.\n",
    "\n",
    "- Se realizará web scraping a una búsqueda en la página de wikipedia y luego se restreará algún contenido de interés. "
   ]
  },
  {
   "cell_type": "code",
   "execution_count": 28,
   "id": "7091a4e9",
   "metadata": {},
   "outputs": [
    {
     "name": "stdout",
     "output_type": "stream",
     "text": [
      "Búsqueda Wikipedia: AlphaGo\n"
     ]
    }
   ],
   "source": [
    "PATH = \"C:\\Program Files (x86)\\chromedriver.exe\"\n",
    "\n",
    "driver = webdriver.Chrome(PATH)\n",
    "\n",
    "driver.get(\"https://es.wikipedia.org/wiki/Inteligencia_artificial\")\n",
    "\n",
    "time.sleep(5)\n",
    "\n",
    "intel_art = driver.find_element(\"xpath\", '//*[@id=\"mw-content-text\"]/div[1]/ul[4]/li[34]/a[1]')\n",
    "\n",
    "print('Búsqueda Wikipedia: '+ intel_art.text)\n",
    "\n",
    "driver.quit()"
   ]
  },
  {
   "cell_type": "markdown",
   "id": "fce3e11a",
   "metadata": {},
   "source": [
    "- Se logró rastrear dentro de la historia de la inteligencia artificial, un acontecimiento muy importante.  "
   ]
  },
  {
   "cell_type": "markdown",
   "id": "9f01cc77",
   "metadata": {},
   "source": [
    "## Exercici 2\n",
    "Documenta en un Word el teu conjunt de dades generat amb la informació que tenen els diferents arxius de Kaggle.\n",
    "\n",
    " Per saber més\n",
    "\n",
    "A manera d'exemple del que es demana pots consultar aquest enllaç:\n",
    "\n",
    "->https://www.kaggle.com/datasets/vivovinco/20212022-football-team-stats.\n",
    "\n",
    "\n",
    "\n",
    "\n",
    "**URL QUOTES** \n",
    "\n",
    "Acerca del conjunto de datos\n",
    "\n",
    "**Contexto:**\n",
    "Este conjunto de datos contiene las 10 citas principales de los últimos tiempos.\n",
    "Información obtenida de la siguiente url:\n",
    "-  http://quotes.toscrape.com\n",
    "\n",
    "**Contenido:** \n",
    "\n",
    "- 10 filas y 2 columnas.\n",
    "\n",
    "La descripción de las columnas se muestra a continuación.\n",
    "-  Citas: Citas (quotes)\n",
    "-  Autor: Nombre del autor\n",
    "- Tag: Etiqueta principal donde se ubica la cita \n",
    "\n",
    "Fecha de extracción de los datos 12/01/23\n",
    "\n",
    "\n",
    "**URL WIKIPEDIA INTELIGENCIA ARTIFICIAL**\n",
    "\n",
    "Acerca del conjunto de datos\n",
    "\n",
    "**Contexto:**\n",
    "\n",
    "Este conjunto de datos contiene información acerca de inteligencia artificial.\n",
    "Información obtenida de la siguiente url: \n",
    "-  https://es.wikipedia.org/wiki/Inteligencia_artificial\n",
    "\n",
    "**Contenido:**\n",
    "- Concepto\n",
    "- Sobre la definición del término\n",
    "- Tipos\n",
    "- Escuelas de pensamiento\n",
    "- Historia\n",
    "- Implicaciones sociales, éticas y filosóficas\n",
    "- Regulación\n",
    "- Objetivos\n",
    "- Críticas\n",
    "- Aplicaciones de la inteligencia artificial\n",
    "- Propiedad intelectual de la inteligencia artificial\n",
    "- En la cultura popular\n",
    "- Véase también\n",
    "- Referencias\n",
    "- Bibliografía\n",
    "- Enlaces externos\n",
    "\n",
    "Se rastreó el nombre de un evento de gran importancia en la historia de la inteligencia artificial, **AlphaGo**.\n",
    "\n",
    "Fecha de extracción de los datos 12/01/23"
   ]
  },
  {
   "cell_type": "markdown",
   "id": "977a090e",
   "metadata": {},
   "source": [
    "## Exercici 3\n",
    "\n",
    "Tria una pàgina web que tu vulguis i realitza web scraping mitjançant la llibreria Selenium primer i Scrapy després. "
   ]
  },
  {
   "cell_type": "code",
   "execution_count": 29,
   "id": "76cf06cb",
   "metadata": {
    "scrolled": true
   },
   "outputs": [],
   "source": [
    "#!pip install Scrapy"
   ]
  },
  {
   "cell_type": "code",
   "execution_count": 30,
   "id": "2d2ca0ce",
   "metadata": {},
   "outputs": [],
   "source": [
    "import scrapy\n",
    "from scrapy.crawler import CrawlerProcess"
   ]
  },
  {
   "cell_type": "markdown",
   "id": "0b0d4b1e",
   "metadata": {},
   "source": [
    "Se realizará **Web Scraping** con **Scrapy** de la siguiente página web: http://books.toscrape.com\n",
    "- En el repositorio de GitHub se podrá encontrar una carpeta llamada \"web_scraping\" con los archivos correspondientes al rastreo de datos usando el entorno **Scrapy**. \n",
    "- También se realizará web scraping de dicha página con la libreria **lxml**."
   ]
  },
  {
   "cell_type": "code",
   "execution_count": 31,
   "id": "9a9f24dc",
   "metadata": {},
   "outputs": [
    {
     "data": {
      "text/html": [
       "<div>\n",
       "<style scoped>\n",
       "    .dataframe tbody tr th:only-of-type {\n",
       "        vertical-align: middle;\n",
       "    }\n",
       "\n",
       "    .dataframe tbody tr th {\n",
       "        vertical-align: top;\n",
       "    }\n",
       "\n",
       "    .dataframe thead th {\n",
       "        text-align: right;\n",
       "    }\n",
       "</style>\n",
       "<table border=\"1\" class=\"dataframe\">\n",
       "  <thead>\n",
       "    <tr style=\"text-align: right;\">\n",
       "      <th></th>\n",
       "      <th>title</th>\n",
       "      <th>price</th>\n",
       "      <th>stock</th>\n",
       "    </tr>\n",
       "  </thead>\n",
       "  <tbody>\n",
       "    <tr>\n",
       "      <th>0</th>\n",
       "      <td>A Light in the ...</td>\n",
       "      <td>£51.77</td>\n",
       "      <td>In stock</td>\n",
       "    </tr>\n",
       "    <tr>\n",
       "      <th>1</th>\n",
       "      <td>Tipping the Velvet</td>\n",
       "      <td>£53.74</td>\n",
       "      <td>In stock</td>\n",
       "    </tr>\n",
       "    <tr>\n",
       "      <th>2</th>\n",
       "      <td>Soumission</td>\n",
       "      <td>£50.10</td>\n",
       "      <td>In stock</td>\n",
       "    </tr>\n",
       "    <tr>\n",
       "      <th>3</th>\n",
       "      <td>Sharp Objects</td>\n",
       "      <td>£47.82</td>\n",
       "      <td>In stock</td>\n",
       "    </tr>\n",
       "    <tr>\n",
       "      <th>4</th>\n",
       "      <td>Sapiens: A Brief History ...</td>\n",
       "      <td>£54.23</td>\n",
       "      <td>In stock</td>\n",
       "    </tr>\n",
       "    <tr>\n",
       "      <th>5</th>\n",
       "      <td>The Requiem Red</td>\n",
       "      <td>£22.65</td>\n",
       "      <td>In stock</td>\n",
       "    </tr>\n",
       "    <tr>\n",
       "      <th>6</th>\n",
       "      <td>The Dirty Little Secrets ...</td>\n",
       "      <td>£33.34</td>\n",
       "      <td>In stock</td>\n",
       "    </tr>\n",
       "    <tr>\n",
       "      <th>7</th>\n",
       "      <td>The Coming Woman: A ...</td>\n",
       "      <td>£17.93</td>\n",
       "      <td>In stock</td>\n",
       "    </tr>\n",
       "    <tr>\n",
       "      <th>8</th>\n",
       "      <td>The Boys in the ...</td>\n",
       "      <td>£22.60</td>\n",
       "      <td>In stock</td>\n",
       "    </tr>\n",
       "    <tr>\n",
       "      <th>9</th>\n",
       "      <td>The Black Maria</td>\n",
       "      <td>£52.15</td>\n",
       "      <td>In stock</td>\n",
       "    </tr>\n",
       "    <tr>\n",
       "      <th>10</th>\n",
       "      <td>Starving Hearts (Triangular Trade ...</td>\n",
       "      <td>£13.99</td>\n",
       "      <td>In stock</td>\n",
       "    </tr>\n",
       "    <tr>\n",
       "      <th>11</th>\n",
       "      <td>Shakespeare's Sonnets</td>\n",
       "      <td>£20.66</td>\n",
       "      <td>In stock</td>\n",
       "    </tr>\n",
       "    <tr>\n",
       "      <th>12</th>\n",
       "      <td>Set Me Free</td>\n",
       "      <td>£17.46</td>\n",
       "      <td>In stock</td>\n",
       "    </tr>\n",
       "    <tr>\n",
       "      <th>13</th>\n",
       "      <td>Scott Pilgrim's Precious Little ...</td>\n",
       "      <td>£52.29</td>\n",
       "      <td>In stock</td>\n",
       "    </tr>\n",
       "    <tr>\n",
       "      <th>14</th>\n",
       "      <td>Rip it Up and ...</td>\n",
       "      <td>£35.02</td>\n",
       "      <td>In stock</td>\n",
       "    </tr>\n",
       "    <tr>\n",
       "      <th>15</th>\n",
       "      <td>Our Band Could Be ...</td>\n",
       "      <td>£57.25</td>\n",
       "      <td>In stock</td>\n",
       "    </tr>\n",
       "    <tr>\n",
       "      <th>16</th>\n",
       "      <td>Olio</td>\n",
       "      <td>£23.88</td>\n",
       "      <td>In stock</td>\n",
       "    </tr>\n",
       "    <tr>\n",
       "      <th>17</th>\n",
       "      <td>Mesaerion: The Best Science ...</td>\n",
       "      <td>£37.59</td>\n",
       "      <td>In stock</td>\n",
       "    </tr>\n",
       "    <tr>\n",
       "      <th>18</th>\n",
       "      <td>Libertarianism for Beginners</td>\n",
       "      <td>£51.33</td>\n",
       "      <td>In stock</td>\n",
       "    </tr>\n",
       "    <tr>\n",
       "      <th>19</th>\n",
       "      <td>It's Only the Himalayas</td>\n",
       "      <td>£45.17</td>\n",
       "      <td>In stock</td>\n",
       "    </tr>\n",
       "  </tbody>\n",
       "</table>\n",
       "</div>"
      ],
      "text/plain": [
       "                                    title   price     stock\n",
       "0                      A Light in the ...  £51.77  In stock\n",
       "1                      Tipping the Velvet  £53.74  In stock\n",
       "2                              Soumission  £50.10  In stock\n",
       "3                           Sharp Objects  £47.82  In stock\n",
       "4            Sapiens: A Brief History ...  £54.23  In stock\n",
       "5                         The Requiem Red  £22.65  In stock\n",
       "6            The Dirty Little Secrets ...  £33.34  In stock\n",
       "7                 The Coming Woman: A ...  £17.93  In stock\n",
       "8                     The Boys in the ...  £22.60  In stock\n",
       "9                         The Black Maria  £52.15  In stock\n",
       "10  Starving Hearts (Triangular Trade ...  £13.99  In stock\n",
       "11                  Shakespeare's Sonnets  £20.66  In stock\n",
       "12                            Set Me Free  £17.46  In stock\n",
       "13    Scott Pilgrim's Precious Little ...  £52.29  In stock\n",
       "14                      Rip it Up and ...  £35.02  In stock\n",
       "15                  Our Band Could Be ...  £57.25  In stock\n",
       "16                                   Olio  £23.88  In stock\n",
       "17        Mesaerion: The Best Science ...  £37.59  In stock\n",
       "18           Libertarianism for Beginners  £51.33  In stock\n",
       "19                It's Only the Himalayas  £45.17  In stock"
      ]
     },
     "execution_count": 31,
     "metadata": {},
     "output_type": "execute_result"
    }
   ],
   "source": [
    "df = pd.read_csv('output.csv')\n",
    "df"
   ]
  },
  {
   "cell_type": "markdown",
   "id": "9312f535",
   "metadata": {},
   "source": [
    "- Se puede observar una tabla con el nombre, precio y stock de los 20 primeros libros. "
   ]
  },
  {
   "cell_type": "code",
   "execution_count": 32,
   "id": "b4a8855a",
   "metadata": {},
   "outputs": [],
   "source": [
    "import requests\n",
    "from lxml import html"
   ]
  },
  {
   "cell_type": "code",
   "execution_count": 33,
   "id": "5f43bcdb",
   "metadata": {},
   "outputs": [],
   "source": [
    "resp = requests.get('http://books.toscrape.com/')"
   ]
  },
  {
   "cell_type": "code",
   "execution_count": 34,
   "id": "59150679",
   "metadata": {},
   "outputs": [
    {
     "data": {
      "text/plain": [
       "200"
      ]
     },
     "execution_count": 34,
     "metadata": {},
     "output_type": "execute_result"
    }
   ],
   "source": [
    "resp.status_code"
   ]
  },
  {
   "cell_type": "code",
   "execution_count": 35,
   "id": "23078686",
   "metadata": {},
   "outputs": [],
   "source": [
    "res = requests.delete"
   ]
  },
  {
   "cell_type": "code",
   "execution_count": 36,
   "id": "bfe6bb5d",
   "metadata": {},
   "outputs": [],
   "source": [
    "soup = html.fromstring(resp.content)"
   ]
  },
  {
   "cell_type": "markdown",
   "id": "b094788a",
   "metadata": {},
   "source": [
    "Se obtendrán los titulos de los libros que se venden en de la pagina "
   ]
  },
  {
   "cell_type": "code",
   "execution_count": 37,
   "id": "acaab338",
   "metadata": {},
   "outputs": [
    {
     "name": "stdout",
     "output_type": "stream",
     "text": [
      "['A Light in the ...']\n",
      "['Tipping the Velvet']\n",
      "['Soumission']\n",
      "['Sharp Objects']\n",
      "['Sapiens: A Brief History ...']\n",
      "['The Requiem Red']\n",
      "['The Dirty Little Secrets ...']\n",
      "['The Coming Woman: A ...']\n",
      "['The Boys in the ...']\n",
      "['The Black Maria']\n",
      "['Starving Hearts (Triangular Trade ...']\n",
      "[\"Shakespeare's Sonnets\"]\n",
      "['Set Me Free']\n",
      "[\"Scott Pilgrim's Precious Little ...\"]\n",
      "['Rip it Up and ...']\n",
      "['Our Band Could Be ...']\n",
      "['Olio']\n",
      "['Mesaerion: The Best Science ...']\n",
      "['Libertarianism for Beginners']\n",
      "[\"It's Only the Himalayas\"]\n"
     ]
    }
   ],
   "source": [
    "for element in soup.xpath('//article[@class=\"product_pod\"]'):\n",
    "    print(element.xpath('.//h3/a/text()'))"
   ]
  },
  {
   "cell_type": "markdown",
   "id": "3b8acb15",
   "metadata": {},
   "source": [
    "- Se realizará web scraping de la página nombrada anteriormente con la librería **Selenium**"
   ]
  },
  {
   "cell_type": "code",
   "execution_count": 38,
   "id": "6eaa002c",
   "metadata": {},
   "outputs": [],
   "source": [
    "from selenium import webdriver\n",
    "from selenium.webdriver.common.by import By\n",
    "from time import sleep"
   ]
  },
  {
   "cell_type": "code",
   "execution_count": 39,
   "id": "dbb7c6a2",
   "metadata": {},
   "outputs": [],
   "source": [
    "driver = webdriver.Chrome() \n",
    "#'C:\\Program Files (x86)\\chromedriver.exe'"
   ]
  },
  {
   "cell_type": "code",
   "execution_count": 40,
   "id": "b748ce40",
   "metadata": {},
   "outputs": [],
   "source": [
    "driver.get('http://books.toscrape.com/')"
   ]
  },
  {
   "cell_type": "code",
   "execution_count": 41,
   "id": "4da751cb",
   "metadata": {},
   "outputs": [],
   "source": [
    "def get_books():\n",
    "    for element in driver.find_elements('xpath', '//article[@class=\"product_pod\"]'):\n",
    "        title = element.find_element('xpath', './/h3/a').text\n",
    "        price = element.find_element('xpath', './/div[@class=\"product_price\"]/p[1]').text\n",
    "        stock = element.find_element('xpath', './/p[@class=\"instock availability\"]').text\n",
    "        print(title, price, stock)\n",
    "   \n",
    "    #next_page = driver.find_element('xpath', '//*(text()=\"next\")')\n",
    "    #if next_page.get_attribute('href'):\n",
    "        #next_page.click()\n",
    "        #sleep(6)\n",
    "        #get_books()"
   ]
  },
  {
   "cell_type": "code",
   "execution_count": 42,
   "id": "e4eb98d7",
   "metadata": {},
   "outputs": [
    {
     "name": "stdout",
     "output_type": "stream",
     "text": [
      "A Light in the ... £51.77 In stock\n",
      "Tipping the Velvet £53.74 In stock\n",
      "Soumission £50.10 In stock\n",
      "Sharp Objects £47.82 In stock\n",
      "Sapiens: A Brief History ... £54.23 In stock\n",
      "The Requiem Red £22.65 In stock\n",
      "The Dirty Little Secrets ... £33.34 In stock\n",
      "The Coming Woman: A ... £17.93 In stock\n",
      "The Boys in the ... £22.60 In stock\n",
      "The Black Maria £52.15 In stock\n",
      "Starving Hearts (Triangular Trade ... £13.99 In stock\n",
      "Shakespeare's Sonnets £20.66 In stock\n",
      "Set Me Free £17.46 In stock\n",
      "Scott Pilgrim's Precious Little ... £52.29 In stock\n",
      "Rip it Up and ... £35.02 In stock\n",
      "Our Band Could Be ... £57.25 In stock\n",
      "Olio £23.88 In stock\n",
      "Mesaerion: The Best Science ... £37.59 In stock\n",
      "Libertarianism for Beginners £51.33 In stock\n",
      "It's Only the Himalayas £45.17 In stock\n"
     ]
    }
   ],
   "source": [
    "get_books()"
   ]
  },
  {
   "cell_type": "markdown",
   "id": "6b4c7b41",
   "metadata": {},
   "source": [
    "- Se puede observar que se realizó un rastreo de los primeros 20 nombres de los libros, su precio y si están en stock.\n",
    "- La web contiene 50 páginas con 1000 libros en total."
   ]
  }
 ],
 "metadata": {
  "hide_input": false,
  "kernelspec": {
   "display_name": "Python 3 (ipykernel)",
   "language": "python",
   "name": "python3"
  },
  "language_info": {
   "codemirror_mode": {
    "name": "ipython",
    "version": 3
   },
   "file_extension": ".py",
   "mimetype": "text/x-python",
   "name": "python",
   "nbconvert_exporter": "python",
   "pygments_lexer": "ipython3",
   "version": "3.9.12"
  },
  "nbTranslate": {
   "displayLangs": [
    "*"
   ],
   "hotkey": "alt-t",
   "langInMainMenu": true,
   "sourceLang": "en",
   "targetLang": "fr",
   "useGoogleTranslate": true
  },
  "toc": {
   "base_numbering": 1,
   "nav_menu": {},
   "number_sections": true,
   "sideBar": true,
   "skip_h1_title": false,
   "title_cell": "Table of Contents",
   "title_sidebar": "Contents",
   "toc_cell": false,
   "toc_position": {},
   "toc_section_display": true,
   "toc_window_display": false
  },
  "varInspector": {
   "cols": {
    "lenName": 16,
    "lenType": 16,
    "lenVar": 40
   },
   "kernels_config": {
    "python": {
     "delete_cmd_postfix": "",
     "delete_cmd_prefix": "del ",
     "library": "var_list.py",
     "varRefreshCmd": "print(var_dic_list())"
    },
    "r": {
     "delete_cmd_postfix": ") ",
     "delete_cmd_prefix": "rm(",
     "library": "var_list.r",
     "varRefreshCmd": "cat(var_dic_list()) "
    }
   },
   "types_to_exclude": [
    "module",
    "function",
    "builtin_function_or_method",
    "instance",
    "_Feature"
   ],
   "window_display": false
  }
 },
 "nbformat": 4,
 "nbformat_minor": 5
}
